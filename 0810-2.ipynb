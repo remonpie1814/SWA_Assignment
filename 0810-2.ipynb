{
 "cells": [
  {
   "cell_type": "markdown",
   "id": "7865a046",
   "metadata": {},
   "source": [
    "## 9012번"
   ]
  },
  {
   "cell_type": "code",
   "execution_count": 1,
   "id": "793bd4f2",
   "metadata": {},
   "outputs": [
    {
     "name": "stdout",
     "output_type": "stream",
     "text": [
      "False\n",
      "False\n",
      "True\n",
      "False\n",
      "True\n",
      "False\n"
     ]
    }
   ],
   "source": [
    "def solution(str):\n",
    "    left=0\n",
    "    for i in str:\n",
    "        if i == \"(\":\n",
    "            left+=1  \n",
    "        else:\n",
    "            if left >0:\n",
    "                left-=1\n",
    "            else:\n",
    "                return False\n",
    "    if left==0:\n",
    "        return True\n",
    "    else:\n",
    "        return False\n",
    "\n",
    "l=[\"(())())\",\n",
    "\"(((()())()\",\n",
    "\"(()())((()))\",\n",
    "\"((()()(()))(((())))()\",\n",
    "\"()()()()(()()())()\",\n",
    "\"(()((())()(\"]\n",
    "for string in l:\n",
    "    print(solution(string))"
   ]
  },
  {
   "cell_type": "code",
   "execution_count": 2,
   "id": "d03a22c0",
   "metadata": {},
   "outputs": [
    {
     "name": "stdout",
     "output_type": "stream",
     "text": [
      "False\n",
      "False\n",
      "True\n",
      "False\n",
      "True\n",
      "False\n"
     ]
    }
   ],
   "source": [
    "#stack을 이용\n",
    "def solution2(s):\n",
    "    l=[]\n",
    "    for i in s:\n",
    "        if i==\"(\":\n",
    "            l.append(\"(\")\n",
    "        else:\n",
    "            if l!=[]:\n",
    "                if l[-1]==\"(\":\n",
    "                    l.pop(-1)\n",
    "                    continue\n",
    "            l.append(i)\n",
    "    if l ==[]:\n",
    "        return True\n",
    "    return False\n",
    "\n",
    "l=[\"(())())\",\n",
    "\"(((()())()\",\n",
    "\"(()())((()))\",\n",
    "\"((()()(()))(((())))()\",\n",
    "\"()()()()(()()())()\",\n",
    "\"(()((())()(\"]\n",
    "for string in l:\n",
    "    print(solution2(string))"
   ]
  },
  {
   "cell_type": "code",
   "execution_count": 3,
   "id": "06848251",
   "metadata": {},
   "outputs": [
    {
     "name": "stdout",
     "output_type": "stream",
     "text": [
      "False\n",
      "True\n",
      "True\n",
      "False\n",
      "True\n",
      "False\n"
     ]
    }
   ],
   "source": [
    "# 괄호의 종류가 여러개일 때\n",
    "def solution3(s):\n",
    "    l=[]\n",
    "    for i in s:\n",
    "        if i==\"(\" or i==\"[\" or i==\"{\":\n",
    "            l.append(i)\n",
    "        else:\n",
    "            if l!=[]:\n",
    "                if i ==\")\":\n",
    "                    if l[-1]==\"(\":\n",
    "                        l.pop(-1)\n",
    "                        continue\n",
    "                elif i==\"]\":\n",
    "                    if l[-1]==\"[\":\n",
    "                        l.pop(-1)\n",
    "                        continue\n",
    "                elif i==\"}\":\n",
    "                    if l[-1]==\"{\":\n",
    "                        l.pop(-1)\n",
    "                        continue\n",
    "            l.append(i)\n",
    "    if l ==[]:\n",
    "        return True\n",
    "    return False\n",
    "\n",
    "l=[\"((])())\",\n",
    "\"[()][]{}()[]\",\n",
    "\"[[[()]{()}]]\",\n",
    "\"((()()(()))((([[())))]]()\",\n",
    "\"()()()()(()()())()\",\n",
    "\"(()((())()(\"]\n",
    "for string in l:\n",
    "    print(solution3(string))"
   ]
  },
  {
   "cell_type": "markdown",
   "id": "971b7261",
   "metadata": {},
   "source": [
    "## 2562번"
   ]
  },
  {
   "cell_type": "code",
   "execution_count": 4,
   "id": "4a9efcb6",
   "metadata": {},
   "outputs": [
    {
     "name": "stdout",
     "output_type": "stream",
     "text": [
      "[85, 8]\n"
     ]
    }
   ],
   "source": [
    "# 재귀함수를 써봄\n",
    "def solution2562(numbers,maximum=0,index=0,count=0):\n",
    "    if numbers==[]:\n",
    "        return [maximum,index]\n",
    "    if numbers[0]>maximum:\n",
    "        count+=1\n",
    "        return solution2562(numbers[1:],numbers[0],count,count)\n",
    "    else:\n",
    "        count+=1\n",
    "        return solution2562(numbers[1:],maximum,index,count)\n",
    "\n",
    "inputlist=[3, 29, 38, 12, 57, 74, 40, 85, 61]\n",
    "print(solution2562(inputlist))"
   ]
  },
  {
   "cell_type": "markdown",
   "id": "b3a9e33b",
   "metadata": {},
   "source": [
    "## 2675번"
   ]
  },
  {
   "cell_type": "code",
   "execution_count": 5,
   "id": "28b2927e",
   "metadata": {},
   "outputs": [
    {
     "data": {
      "text/plain": [
       "'AAAABBBBCCCC'"
      ]
     },
     "execution_count": 5,
     "metadata": {},
     "output_type": "execute_result"
    }
   ],
   "source": [
    "def solution2675(text,R):\n",
    "    result=\"\"\n",
    "    for i in text:\n",
    "        result+=i*R\n",
    "    return result\n",
    "\n",
    "solution2675(\"ABC\",4)"
   ]
  },
  {
   "cell_type": "markdown",
   "id": "6c4d6785",
   "metadata": {},
   "source": [
    "## 8958번"
   ]
  },
  {
   "cell_type": "code",
   "execution_count": 7,
   "id": "ed028d8c",
   "metadata": {},
   "outputs": [
    {
     "name": "stdout",
     "output_type": "stream",
     "text": [
      "10\n",
      "9\n",
      "7\n",
      "55\n",
      "30\n"
     ]
    }
   ],
   "source": [
    "def solution8958(text,count=0):\n",
    "    if text==\"\":\n",
    "        return 0\n",
    "    if text[0]==\"X\":\n",
    "        return solution8958(text[1:],count=0)\n",
    "    if text[0]==\"O\":\n",
    "        count+=1\n",
    "        return solution8958(text[1:],count)+count\n",
    "\n",
    "\n",
    "inputlist=[\"OOXXOXXOOO\",\n",
    "\"OOXXOOXXOO\",\n",
    "\"OXOXOXOXOXOXOX\",\n",
    "\"OOOOOOOOOO\",\n",
    "\"OOOOXOOOOXOOOOX\"]\n",
    "for text in inputlist:\n",
    "    print(solution8958(text))"
   ]
  },
  {
   "cell_type": "markdown",
   "id": "42820784",
   "metadata": {},
   "source": [
    "## 1157번"
   ]
  },
  {
   "cell_type": "code",
   "execution_count": 9,
   "id": "1619be57",
   "metadata": {},
   "outputs": [
    {
     "name": "stdout",
     "output_type": "stream",
     "text": [
      "?\n",
      "Z\n",
      "Z\n",
      "A\n"
     ]
    }
   ],
   "source": [
    "def solution1157(text):\n",
    "    from collections import Counter\n",
    "    text=text.upper()\n",
    "    counter=Counter(text)\n",
    "    answer=[]\n",
    "    for i in counter:\n",
    "        if counter[i]==max(counter.values()):\n",
    "            answer.append(i)\n",
    "    if len(answer)>1:\n",
    "        return \"?\"\n",
    "    return answer[0]\n",
    "\n",
    "inputlist=[\"Mississipi\",\n",
    "\"zZa\",\n",
    "\"z\",\n",
    "\"baaa\"]\n",
    "for text in inputlist:\n",
    "    print(solution1157(text))"
   ]
  },
  {
   "cell_type": "markdown",
   "id": "16a55107",
   "metadata": {},
   "source": [
    "## 1110번"
   ]
  },
  {
   "cell_type": "code",
   "execution_count": 11,
   "id": "391116da",
   "metadata": {},
   "outputs": [
    {
     "data": {
      "text/plain": [
       "4"
      ]
     },
     "execution_count": 11,
     "metadata": {},
     "output_type": "execute_result"
    }
   ],
   "source": [
    "def solution1110(num):\n",
    "    count=1\n",
    "    start=num\n",
    "    if int(num)<=9:\n",
    "            num=\"0\"+num\n",
    "    num=num[1]+str(int(num[0])+int(num[1]))[-1]\n",
    "    while start!=num:\n",
    "        if int(num)<=9:\n",
    "            num=\"0\"+num\n",
    "        num=num[1]+str(int(num[0])+int(num[1]))[-1]\n",
    "        count+=1\n",
    "    return count\n",
    "\n",
    "solution1110(\"26\")"
   ]
  }
 ],
 "metadata": {
  "kernelspec": {
   "display_name": "Python 3 (ipykernel)",
   "language": "python",
   "name": "python3"
  },
  "language_info": {
   "codemirror_mode": {
    "name": "ipython",
    "version": 3
   },
   "file_extension": ".py",
   "mimetype": "text/x-python",
   "name": "python",
   "nbconvert_exporter": "python",
   "pygments_lexer": "ipython3",
   "version": "3.9.12"
  }
 },
 "nbformat": 4,
 "nbformat_minor": 5
}
